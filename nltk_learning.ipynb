{
 "cells": [
  {
   "cell_type": "code",
   "execution_count": 3,
   "metadata": {
    "id": "Niu-z0clKr59"
   },
   "outputs": [],
   "source": [
    "import nltk\n",
    "import string\n",
    "import pandas as pd"
   ]
  },
  {
   "cell_type": "code",
   "execution_count": 5,
   "metadata": {
    "colab": {
     "base_uri": "https://localhost:8080/",
     "height": 36
    },
    "id": "7JYtAzKSO2Mx",
    "outputId": "15443fe8-ec23-437a-91c6-bcc71b7562ca"
   },
   "outputs": [],
   "source": [
    "string.punctuation\n",
    "data=pd.read_csv('medium_articles.csv')"
   ]
  },
  {
   "cell_type": "code",
   "execution_count": 147,
   "metadata": {},
   "outputs": [],
   "source": [
    "# data.drop('title', axis=1, inplace=True)\n",
    "# data.drop('authors', axis=1, inplace=True)\n",
    "# data.drop('timestamp', axis=1, inplace=True)\n",
    "# data.drop('url', axis=1, inplace=True)\n",
    "\n",
    "data[:6]\n",
    "data = data.iloc[:100]\n",
    "data = data.dropna(subset = ['text'])"
   ]
  },
  {
   "cell_type": "code",
   "execution_count": 319,
   "metadata": {},
   "outputs": [],
   "source": [
    "punctuation = string.punctuation\n",
    "def remove_punc():\n",
    "    for index in range(0, len(data)):\n",
    "        data.loc[index, 'text'] = data.loc[index, 'text'].replace('\\n', ' ').replace('“', '').replace('”','').replace('—','')\n",
    "        for s in punctuation:\n",
    "            data.loc[index, 'text'] = data.loc[index, 'text'].replace(s, ' ')"
   ]
  },
  {
   "cell_type": "code",
   "execution_count": 313,
   "metadata": {},
   "outputs": [],
   "source": [
    "stop_words = nltk.corpus.stopwords.words('english')\n",
    "def remove_stopwords():\n",
    "    data['clean_text'] = data['stemmed_text']\n",
    "    for i in range (0, len(data)):\n",
    "        words = data.loc[i, 'clean_text']\n",
    "        for word in words:\n",
    "            if word in stop_words:\n",
    "                words.remove(word)\n",
    "        data.at[i, 'clean_text'] = words\n",
    "remove_stopwords()"
   ]
  },
  {
   "cell_type": "code",
   "execution_count": 343,
   "metadata": {},
   "outputs": [
    {
     "name": "stdout",
     "output_type": "stream",
     "text": [
      "False\n"
     ]
    }
   ],
   "source": [
    "for i in range (0, len(stop_words)):\n",
    "    if \n",
    "    stop_words[i].replace(\"'\", '’')\n",
    "print(\"haven’t\" in stop_words)"
   ]
  },
  {
   "cell_type": "code",
   "execution_count": 311,
   "metadata": {},
   "outputs": [],
   "source": [
    "def split(x):\n",
    "     try:\n",
    "         x.split(\" \")\n",
    "     except:\n",
    "        print(x)\n",
    "\n",
    "def stem_text():\n",
    "    ps = nltk.PorterStemmer()\n",
    "    data['stemmed_text'] = data['text']\n",
    "    data['stemmed_text'] = data['stemmed_text'].apply(lambda x: x.split(' '))\n",
    "    for index in range(0, len(data)):\n",
    "        words = data.loc[index, 'stemmed_text']\n",
    "        for word in words:\n",
    "            if not word.strip():\n",
    "                words.remove(word)\n",
    "        for i in range(0, len(words)):\n",
    "            words[i] = ps.stem(words[i])\n",
    "        data.at[index, 'stemmed_text'] = words\n",
    "stem_text()"
   ]
  },
  {
   "cell_type": "code",
   "execution_count": 321,
   "metadata": {
    "colab": {
     "base_uri": "https://localhost:8080/",
     "height": 36
    },
    "id": "FJj-rXfBNqEX",
    "outputId": "426c4457-72b3-437c-c9d2-c0d3f169e03e"
   },
   "outputs": [
    {
     "data": {
      "text/html": [
       "<div>\n",
       "<style scoped>\n",
       "    .dataframe tbody tr th:only-of-type {\n",
       "        vertical-align: middle;\n",
       "    }\n",
       "\n",
       "    .dataframe tbody tr th {\n",
       "        vertical-align: top;\n",
       "    }\n",
       "\n",
       "    .dataframe thead th {\n",
       "        text-align: right;\n",
       "    }\n",
       "</style>\n",
       "<table border=\"1\" class=\"dataframe\">\n",
       "  <thead>\n",
       "    <tr style=\"text-align: right;\">\n",
       "      <th></th>\n",
       "      <th>text</th>\n",
       "      <th>tags</th>\n",
       "      <th>stemmed_text</th>\n",
       "      <th>clean_text</th>\n",
       "    </tr>\n",
       "  </thead>\n",
       "  <tbody>\n",
       "    <tr>\n",
       "      <th>0</th>\n",
       "      <td>Photo by Josh Riemer on Unsplash  Merry Christ...</td>\n",
       "      <td>['Mental Health', 'Health', 'Psychology', 'Sci...</td>\n",
       "      <td>[photo, josh, riemer, unsplash, merri, christm...</td>\n",
       "      <td>[photo, josh, riemer, unsplash, merri, christm...</td>\n",
       "    </tr>\n",
       "    <tr>\n",
       "      <th>1</th>\n",
       "      <td>Your Brain On Coronavirus  A guide to the curi...</td>\n",
       "      <td>['Mental Health', 'Coronavirus', 'Science', 'P...</td>\n",
       "      <td>[brain, coronaviru, guid, curiou, troubl, impa...</td>\n",
       "      <td>[brain, coronaviru, guid, curiou, troubl, impa...</td>\n",
       "    </tr>\n",
       "    <tr>\n",
       "      <th>2</th>\n",
       "      <td>Mind Your Nose  How smell training can change ...</td>\n",
       "      <td>['Biotechnology', 'Neuroscience', 'Brain', 'We...</td>\n",
       "      <td>[mind, nose, smell, train, chang, brain, six, ...</td>\n",
       "      <td>[mind, nose, smell, train, chang, brain, six, ...</td>\n",
       "    </tr>\n",
       "    <tr>\n",
       "      <th>3</th>\n",
       "      <td>Passionate about the synergy between science a...</td>\n",
       "      <td>['Health', 'Neuroscience', 'Mental Health', 'P...</td>\n",
       "      <td>[passion, the, synergi, scienc, technolog, pro...</td>\n",
       "      <td>[passion, the, synergi, scienc, technolog, pro...</td>\n",
       "    </tr>\n",
       "    <tr>\n",
       "      <th>4</th>\n",
       "      <td>You’ve heard of him haven’t you Phineas Gage T...</td>\n",
       "      <td>['Brain', 'Health', 'Development', 'Psychology...</td>\n",
       "      <td>[you’v, heard, haven’t, phinea, gage, railroad...</td>\n",
       "      <td>[you’v, heard, haven’t, phinea, gage, railroad...</td>\n",
       "    </tr>\n",
       "  </tbody>\n",
       "</table>\n",
       "</div>"
      ],
      "text/plain": [
       "                                                text  \\\n",
       "0  Photo by Josh Riemer on Unsplash  Merry Christ...   \n",
       "1  Your Brain On Coronavirus  A guide to the curi...   \n",
       "2  Mind Your Nose  How smell training can change ...   \n",
       "3  Passionate about the synergy between science a...   \n",
       "4  You’ve heard of him haven’t you Phineas Gage T...   \n",
       "\n",
       "                                                tags  \\\n",
       "0  ['Mental Health', 'Health', 'Psychology', 'Sci...   \n",
       "1  ['Mental Health', 'Coronavirus', 'Science', 'P...   \n",
       "2  ['Biotechnology', 'Neuroscience', 'Brain', 'We...   \n",
       "3  ['Health', 'Neuroscience', 'Mental Health', 'P...   \n",
       "4  ['Brain', 'Health', 'Development', 'Psychology...   \n",
       "\n",
       "                                        stemmed_text  \\\n",
       "0  [photo, josh, riemer, unsplash, merri, christm...   \n",
       "1  [brain, coronaviru, guid, curiou, troubl, impa...   \n",
       "2  [mind, nose, smell, train, chang, brain, six, ...   \n",
       "3  [passion, the, synergi, scienc, technolog, pro...   \n",
       "4  [you’v, heard, haven’t, phinea, gage, railroad...   \n",
       "\n",
       "                                          clean_text  \n",
       "0  [photo, josh, riemer, unsplash, merri, christm...  \n",
       "1  [brain, coronaviru, guid, curiou, troubl, impa...  \n",
       "2  [mind, nose, smell, train, chang, brain, six, ...  \n",
       "3  [passion, the, synergi, scienc, technolog, pro...  \n",
       "4  [you’v, heard, haven’t, phinea, gage, railroad...  "
      ]
     },
     "execution_count": 321,
     "metadata": {},
     "output_type": "execute_result"
    }
   ],
   "source": [
    "data[:5]"
   ]
  },
  {
   "cell_type": "code",
   "execution_count": null,
   "metadata": {},
   "outputs": [],
   "source": []
  }
 ],
 "metadata": {
  "colab": {
   "provenance": []
  },
  "kernelspec": {
   "display_name": "Python 3 (ipykernel)",
   "language": "python",
   "name": "python3"
  },
  "language_info": {
   "codemirror_mode": {
    "name": "ipython",
    "version": 3
   },
   "file_extension": ".py",
   "mimetype": "text/x-python",
   "name": "python",
   "nbconvert_exporter": "python",
   "pygments_lexer": "ipython3",
   "version": "3.12.4"
  }
 },
 "nbformat": 4,
 "nbformat_minor": 4
}
