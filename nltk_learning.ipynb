{
 "cells": [
  {
   "cell_type": "code",
   "execution_count": null,
   "metadata": {
    "id": "Niu-z0clKr59"
   },
   "outputs": [],
   "source": [
    "import nltk\n",
    "import string\n",
    "import pandas as pd"
   ]
  },
  {
   "cell_type": "markdown",
   "metadata": {},
   "source": [
    "<h1>Reading training data from a file</h1>"
   ]
  },
  {
   "cell_type": "code",
   "execution_count": 67,
   "metadata": {
    "colab": {
     "base_uri": "https://localhost:8080/",
     "height": 36
    },
    "id": "7JYtAzKSO2Mx",
    "outputId": "15443fe8-ec23-437a-91c6-bcc71b7562ca"
   },
   "outputs": [],
   "source": [
    "string.punctuation\n",
    "data=pd.read_csv('medium_articles.csv')"
   ]
  },
  {
   "cell_type": "markdown",
   "metadata": {},
   "source": [
    "<br><h3><i>Removing unnecessary data from the text dataset</i></h3><br>"
   ]
  },
  {
   "cell_type": "code",
   "execution_count": 69,
   "metadata": {},
   "outputs": [
    {
     "data": {
      "text/html": [
       "<div>\n",
       "<style scoped>\n",
       "    .dataframe tbody tr th:only-of-type {\n",
       "        vertical-align: middle;\n",
       "    }\n",
       "\n",
       "    .dataframe tbody tr th {\n",
       "        vertical-align: top;\n",
       "    }\n",
       "\n",
       "    .dataframe thead th {\n",
       "        text-align: right;\n",
       "    }\n",
       "</style>\n",
       "<table border=\"1\" class=\"dataframe\">\n",
       "  <thead>\n",
       "    <tr style=\"text-align: right;\">\n",
       "      <th></th>\n",
       "      <th>text</th>\n",
       "      <th>tags</th>\n",
       "    </tr>\n",
       "  </thead>\n",
       "  <tbody>\n",
       "    <tr>\n",
       "      <th>0</th>\n",
       "      <td>Photo by Josh Riemer on Unsplash\\n\\nMerry Chri...</td>\n",
       "      <td>['Mental Health', 'Health', 'Psychology', 'Sci...</td>\n",
       "    </tr>\n",
       "    <tr>\n",
       "      <th>1</th>\n",
       "      <td>Your Brain On Coronavirus\\n\\nA guide to the cu...</td>\n",
       "      <td>['Mental Health', 'Coronavirus', 'Science', 'P...</td>\n",
       "    </tr>\n",
       "    <tr>\n",
       "      <th>2</th>\n",
       "      <td>Mind Your Nose\\n\\nHow smell training can chang...</td>\n",
       "      <td>['Biotechnology', 'Neuroscience', 'Brain', 'We...</td>\n",
       "    </tr>\n",
       "    <tr>\n",
       "      <th>3</th>\n",
       "      <td>Passionate about the synergy between science a...</td>\n",
       "      <td>['Health', 'Neuroscience', 'Mental Health', 'P...</td>\n",
       "    </tr>\n",
       "    <tr>\n",
       "      <th>4</th>\n",
       "      <td>You’ve heard of him, haven’t you? Phineas Gage...</td>\n",
       "      <td>['Brain', 'Health', 'Development', 'Psychology...</td>\n",
       "    </tr>\n",
       "    <tr>\n",
       "      <th>5</th>\n",
       "      <td>Mentally, Young Adults Are Suffering Most From...</td>\n",
       "      <td>['Society', 'Mental Health', 'Health', 'Nonfic...</td>\n",
       "    </tr>\n",
       "  </tbody>\n",
       "</table>\n",
       "</div>"
      ],
      "text/plain": [
       "                                                text  \\\n",
       "0  Photo by Josh Riemer on Unsplash\\n\\nMerry Chri...   \n",
       "1  Your Brain On Coronavirus\\n\\nA guide to the cu...   \n",
       "2  Mind Your Nose\\n\\nHow smell training can chang...   \n",
       "3  Passionate about the synergy between science a...   \n",
       "4  You’ve heard of him, haven’t you? Phineas Gage...   \n",
       "5  Mentally, Young Adults Are Suffering Most From...   \n",
       "\n",
       "                                                tags  \n",
       "0  ['Mental Health', 'Health', 'Psychology', 'Sci...  \n",
       "1  ['Mental Health', 'Coronavirus', 'Science', 'P...  \n",
       "2  ['Biotechnology', 'Neuroscience', 'Brain', 'We...  \n",
       "3  ['Health', 'Neuroscience', 'Mental Health', 'P...  \n",
       "4  ['Brain', 'Health', 'Development', 'Psychology...  \n",
       "5  ['Society', 'Mental Health', 'Health', 'Nonfic...  "
      ]
     },
     "execution_count": 69,
     "metadata": {},
     "output_type": "execute_result"
    }
   ],
   "source": [
    "data.drop('title', axis=1, inplace=True)\n",
    "data.drop('authors', axis=1, inplace=True)\n",
    "data.drop('timestamp', axis=1, inplace=True)\n",
    "data.drop('url', axis=1, inplace=True)\n",
    "\n",
    "data = data.dropna(subset = ['text'])\n",
    "data = data.iloc[:100]\n",
    "data[:6]\n",
    "\n"
   ]
  },
  {
   "cell_type": "markdown",
   "metadata": {},
   "source": [
    "<br><h3><i>Removing punctuation</i></h3><br>"
   ]
  },
  {
   "cell_type": "code",
   "execution_count": 72,
   "metadata": {},
   "outputs": [],
   "source": [
    "punctuation = string.punctuation\n",
    "def remove_punc():\n",
    "    for index in range(0, len(data)):\n",
    "        for s in punctuation:\n",
    "            data.loc[index, 'text'] = data.loc[index, 'text'].replace(s, ' ')\n",
    "        data.loc[index, 'text'] = data.loc[index, 'text'].replace('\\n', ' ').replace('“', '').replace('”','').replace('—','').replace(\"’\",\"`\")\n",
    "remove_punc()"
   ]
  },
  {
   "cell_type": "code",
   "execution_count": 74,
   "metadata": {},
   "outputs": [
    {
     "data": {
      "text/plain": [
       "'Photo by Josh Riemer on Unsplash  Merry Christmas and Happy Holidays  everyone   We just wanted everyone to know how much we appreciate everyone and how thankful we are for all our readers and writers here  We wouldn`t be anywhere without you  so thank you all for bringing informative  vulnerable  and important pieces that destigmatize mental illness and mental health   Without further ado  here are ten of our top stories from last week  all of which were curated   Just as the capacity to love and inspire is universal so is the capacity to hate and discourage  Irrespective of gender  race  age or religion none of us are exempt from aggressive proclivities  Those who are narcissistically disordered  and accordingly repress deep seated feelings of inferiority with inflated delusions of grandeur and superiority  are more prone to aggression and violence  They infiltrate our interactions in myriad environments from home  work  school and the cyber world  Hence  bullying does not happen in isolation  Although there is a ringleader she looks to her minions to either sanction her cruelty or look the other way   Even though the circumstances that brought me here were sad and challenging  I`m grateful for how this program has changed my life for the better  I can`t help but imagine what life would be like if everyone learned to accept their powerlessness over other people  prioritize their serenity  and take life one step at a time  We`ll never know  but I`d bet the world would be much happier   The prospect of spending a horrible Christmas  locked in on a psychiatric unit  was one of the low points of my life  For weeks  the day room was festooned with cheesy decorations and a sorry pink aluminum tree  All of our activity therapies revolved around the holidays  We baked and decorated cookies  We fashioned quick drying clay into ornaments that turned out to be too heavy for the tree  Crappy Christmas carols were background torture  It was hard to get pissed off at the staff because they were making the best with what they had   Although I hate to admit it  even if my ex had never betrayed me  I still wouldn`t have been happy  I had set him up for an impossible job  to define me and make me whole  If I cannot find peace and contentment within myself  how could anyone else do it for me   On a personal note  significant feelings of loss and sadness can still flare up from time to time  That`s only natural  it`s no reason for self critique  No matter how resilient we purport to be  we are all emotionally vulnerable human beings  Besides  we aren`t talking about some conceptual loss that we can just mechanically compartmentalize away  we are talking about the loss of our fathers  mothers  sisters and brothers   The next six weeks will be hard as cases continue to explode and government leadership remains nonexistent  I can`t control any of this  The only thing I can do is take deep breaths  remain vigilant when it comes to limiting exposure to the virus  and let lots of stuff go  I may always be a hypochondriac  but now that I recognize the beast  I`m hopeful I`ll be able to tame it   From anecdotal news reports and informal surveys  there is evidence that for some of us  this pandemic imposed isolation is a boon rather than a trial  One study on mixed emotions showed that those with lower emotional stability  moody personalities  are actually better at responding to uncertainty   Every day I wish in my heart and soul that I didn`t have ME CFS  Unfortunately  I do  It`s a result of a virus I had  10–12 percent of people who experience a serious infection go on to develop ME  I`ve visualized life without CFS for over a year now  I can smell life without it  I can taste it  It`s in the smell of the lavender fields that I can no longer run through  It`s in the taste of the meals from my favorite restaurant that I can no longer walk to  It`s on the tip of my tongue  It`s in the potentialities  all the things I could be doing  as a twenty four year old  that I can`t  I cannot cross the chasm between the potential and the reality  And that`s nothing to do with manifestation   Whether it`s cabin fever  redundancy  loss  or general Covid anxieties  this year has caused us to be exposed to more uncertainty than ever  Uncertainty creates unease and feelings of stress  Some of us may have taken this year as one to motivate  plan dream trips  and prepare and be inspired for what the future could bring  For the rest  it has caused us to become irrational  emotional  and reserved   To be more self compassionate is a task that can be tricky because we always want to push ourselves and do better  Without realising it  this can lead to us being self critical which can have damaging consequences   It`s important to notice these times when we are harsh because we can easily turn it into self compassion  which is linked to a better quality of life   Merry Christmas and Happy Holidays  everyone    Ryan  Juliette  Marie  and Meredith'"
      ]
     },
     "execution_count": 74,
     "metadata": {},
     "output_type": "execute_result"
    }
   ],
   "source": [
    "data['text'][0]"
   ]
  },
  {
   "cell_type": "markdown",
   "metadata": {},
   "source": [
    "<br><h3><i>Removing stop words</i></h3><br>"
   ]
  },
  {
   "cell_type": "code",
   "execution_count": 78,
   "metadata": {},
   "outputs": [],
   "source": [
    "stop_words=nltk.corpus.stopwords.words('english')\n",
    "stop_words = [word.replace(\"'\", \"`\") for word in stop_words]"
   ]
  },
  {
   "cell_type": "code",
   "execution_count": 313,
   "metadata": {},
   "outputs": [],
   "source": [
    "def remove_stopwords():\n",
    "    data['clean_text'] = data['text']\n",
    "    for i in range (0, len(data)):\n",
    "        words = data.loc[i, 'clean_text']\n",
    "        for word in words:\n",
    "            if word in stop_words:\n",
    "                words.remove(word)\n",
    "        data.at[i, 'clean_text'] = words\n",
    "remove_stopwords()"
   ]
  },
  {
   "cell_type": "markdown",
   "metadata": {},
   "source": [
    "<br><h3><i>Spliting text</i></h3><br>"
   ]
  },
  {
   "cell_type": "code",
   "execution_count": 311,
   "metadata": {},
   "outputs": [],
   "source": [
    "def split(x):\n",
    "     try:\n",
    "         x.split(\" \")\n",
    "     except:\n",
    "        print(x)\n",
    "\n",
    "def stem_text():\n",
    "    ps = nltk.PorterStemmer()\n",
    "    data['stemmed_text'] = data['text']\n",
    "    data['stemmed_text'] = data['stemmed_text'].apply(lambda x: x.split(' '))\n",
    "    for index in range(0, len(data)):\n",
    "        words = data.loc[index, 'stemmed_text']\n",
    "        for word in words:\n",
    "            if not word.strip():\n",
    "                words.remove(word)\n",
    "        for i in range(0, len(words)):\n",
    "            words[i] = ps.stem(words[i])\n",
    "        data.at[index, 'stemmed_text'] = words\n",
    "stem_text()"
   ]
  },
  {
   "cell_type": "markdown",
   "metadata": {},
   "source": [
    "<br><h3><i>Stemming</i></h3><br>"
   ]
  },
  {
   "cell_type": "code",
   "execution_count": 321,
   "metadata": {
    "colab": {
     "base_uri": "https://localhost:8080/",
     "height": 36
    },
    "id": "FJj-rXfBNqEX",
    "outputId": "426c4457-72b3-437c-c9d2-c0d3f169e03e"
   },
   "outputs": [
    {
     "data": {
      "text/html": [
       "<div>\n",
       "<style scoped>\n",
       "    .dataframe tbody tr th:only-of-type {\n",
       "        vertical-align: middle;\n",
       "    }\n",
       "\n",
       "    .dataframe tbody tr th {\n",
       "        vertical-align: top;\n",
       "    }\n",
       "\n",
       "    .dataframe thead th {\n",
       "        text-align: right;\n",
       "    }\n",
       "</style>\n",
       "<table border=\"1\" class=\"dataframe\">\n",
       "  <thead>\n",
       "    <tr style=\"text-align: right;\">\n",
       "      <th></th>\n",
       "      <th>text</th>\n",
       "      <th>tags</th>\n",
       "      <th>stemmed_text</th>\n",
       "      <th>clean_text</th>\n",
       "    </tr>\n",
       "  </thead>\n",
       "  <tbody>\n",
       "    <tr>\n",
       "      <th>0</th>\n",
       "      <td>Photo by Josh Riemer on Unsplash  Merry Christ...</td>\n",
       "      <td>['Mental Health', 'Health', 'Psychology', 'Sci...</td>\n",
       "      <td>[photo, josh, riemer, unsplash, merri, christm...</td>\n",
       "      <td>[photo, josh, riemer, unsplash, merri, christm...</td>\n",
       "    </tr>\n",
       "    <tr>\n",
       "      <th>1</th>\n",
       "      <td>Your Brain On Coronavirus  A guide to the curi...</td>\n",
       "      <td>['Mental Health', 'Coronavirus', 'Science', 'P...</td>\n",
       "      <td>[brain, coronaviru, guid, curiou, troubl, impa...</td>\n",
       "      <td>[brain, coronaviru, guid, curiou, troubl, impa...</td>\n",
       "    </tr>\n",
       "    <tr>\n",
       "      <th>2</th>\n",
       "      <td>Mind Your Nose  How smell training can change ...</td>\n",
       "      <td>['Biotechnology', 'Neuroscience', 'Brain', 'We...</td>\n",
       "      <td>[mind, nose, smell, train, chang, brain, six, ...</td>\n",
       "      <td>[mind, nose, smell, train, chang, brain, six, ...</td>\n",
       "    </tr>\n",
       "    <tr>\n",
       "      <th>3</th>\n",
       "      <td>Passionate about the synergy between science a...</td>\n",
       "      <td>['Health', 'Neuroscience', 'Mental Health', 'P...</td>\n",
       "      <td>[passion, the, synergi, scienc, technolog, pro...</td>\n",
       "      <td>[passion, the, synergi, scienc, technolog, pro...</td>\n",
       "    </tr>\n",
       "    <tr>\n",
       "      <th>4</th>\n",
       "      <td>You’ve heard of him haven’t you Phineas Gage T...</td>\n",
       "      <td>['Brain', 'Health', 'Development', 'Psychology...</td>\n",
       "      <td>[you’v, heard, haven’t, phinea, gage, railroad...</td>\n",
       "      <td>[you’v, heard, haven’t, phinea, gage, railroad...</td>\n",
       "    </tr>\n",
       "  </tbody>\n",
       "</table>\n",
       "</div>"
      ],
      "text/plain": [
       "                                                text  \\\n",
       "0  Photo by Josh Riemer on Unsplash  Merry Christ...   \n",
       "1  Your Brain On Coronavirus  A guide to the curi...   \n",
       "2  Mind Your Nose  How smell training can change ...   \n",
       "3  Passionate about the synergy between science a...   \n",
       "4  You’ve heard of him haven’t you Phineas Gage T...   \n",
       "\n",
       "                                                tags  \\\n",
       "0  ['Mental Health', 'Health', 'Psychology', 'Sci...   \n",
       "1  ['Mental Health', 'Coronavirus', 'Science', 'P...   \n",
       "2  ['Biotechnology', 'Neuroscience', 'Brain', 'We...   \n",
       "3  ['Health', 'Neuroscience', 'Mental Health', 'P...   \n",
       "4  ['Brain', 'Health', 'Development', 'Psychology...   \n",
       "\n",
       "                                        stemmed_text  \\\n",
       "0  [photo, josh, riemer, unsplash, merri, christm...   \n",
       "1  [brain, coronaviru, guid, curiou, troubl, impa...   \n",
       "2  [mind, nose, smell, train, chang, brain, six, ...   \n",
       "3  [passion, the, synergi, scienc, technolog, pro...   \n",
       "4  [you’v, heard, haven’t, phinea, gage, railroad...   \n",
       "\n",
       "                                          clean_text  \n",
       "0  [photo, josh, riemer, unsplash, merri, christm...  \n",
       "1  [brain, coronaviru, guid, curiou, troubl, impa...  \n",
       "2  [mind, nose, smell, train, chang, brain, six, ...  \n",
       "3  [passion, the, synergi, scienc, technolog, pro...  \n",
       "4  [you’v, heard, haven’t, phinea, gage, railroad...  "
      ]
     },
     "execution_count": 321,
     "metadata": {},
     "output_type": "execute_result"
    }
   ],
   "source": [
    "data[:5]"
   ]
  },
  {
   "cell_type": "code",
   "execution_count": null,
   "metadata": {},
   "outputs": [],
   "source": []
  }
 ],
 "metadata": {
  "colab": {
   "provenance": []
  },
  "kernelspec": {
   "display_name": "Python 3 (ipykernel)",
   "language": "python",
   "name": "python3"
  },
  "language_info": {
   "codemirror_mode": {
    "name": "ipython",
    "version": 3
   },
   "file_extension": ".py",
   "mimetype": "text/x-python",
   "name": "python",
   "nbconvert_exporter": "python",
   "pygments_lexer": "ipython3",
   "version": "3.12.4"
  }
 },
 "nbformat": 4,
 "nbformat_minor": 4
}
